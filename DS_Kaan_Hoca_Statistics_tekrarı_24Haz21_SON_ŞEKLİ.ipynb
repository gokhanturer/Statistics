{
  "nbformat": 4,
  "nbformat_minor": 5,
  "metadata": {
    "kernelspec": {
      "display_name": "Python 3",
      "language": "python",
      "name": "python3"
    },
    "language_info": {
      "codemirror_mode": {
        "name": "ipython",
        "version": 3
      },
      "file_extension": ".py",
      "mimetype": "text/x-python",
      "name": "python",
      "nbconvert_exporter": "python",
      "pygments_lexer": "ipython3",
      "version": "3.7.8"
    },
    "colab": {
      "name": "DS_Kaan Hoca_Statistics tekrarı_24Haz21_SON ŞEKLİ.ipynb",
      "provenance": [],
      "include_colab_link": true
    }
  },
  "cells": [
    {
      "cell_type": "markdown",
      "metadata": {
        "id": "view-in-github",
        "colab_type": "text"
      },
      "source": [
        "<a href=\"https://colab.research.google.com/github/gokhanturer/Statistics/blob/main/DS_Kaan_Hoca_Statistics_tekrar%C4%B1_24Haz21_SON_S%CC%A7EKLI%CC%87.ipynb\" target=\"_parent\"><img src=\"https://colab.research.google.com/assets/colab-badge.svg\" alt=\"Open In Colab\"/></a>"
      ]
    },
    {
      "cell_type": "code",
      "metadata": {
        "id": "alpine-contemporary"
      },
      "source": [
        "import numpy as np\n",
        "import pandas as pd\n",
        "import matplotlib.pyplot as plt\n",
        "import seaborn as sns\n",
        "from scipy import stats \n",
        "import statistics as st"
      ],
      "id": "alpine-contemporary",
      "execution_count": null,
      "outputs": []
    },
    {
      "cell_type": "code",
      "metadata": {
        "id": "foster-metro"
      },
      "source": [
        "df_2021 = pd.read_csv('world-happiness-report-2021.csv')"
      ],
      "id": "foster-metro",
      "execution_count": null,
      "outputs": []
    },
    {
      "cell_type": "code",
      "metadata": {
        "id": "directed-interface"
      },
      "source": [
        "df1_2021= df_2021[['Country name','Regional indicator','Ladder score','Logged GDP per capita','Social support','Healthy life expectancy','Freedom to make life choices','Generosity','Perceptions of corruption']].copy()"
      ],
      "id": "directed-interface",
      "execution_count": null,
      "outputs": []
    },
    {
      "cell_type": "code",
      "metadata": {
        "id": "brave-scoop",
        "outputId": "b34967d7-95e4-49d5-eab0-a69aae4f30f0"
      },
      "source": [
        "df1_2021.head()"
      ],
      "id": "brave-scoop",
      "execution_count": null,
      "outputs": [
        {
          "output_type": "execute_result",
          "data": {
            "text/html": [
              "<div>\n",
              "<style scoped>\n",
              "    .dataframe tbody tr th:only-of-type {\n",
              "        vertical-align: middle;\n",
              "    }\n",
              "\n",
              "    .dataframe tbody tr th {\n",
              "        vertical-align: top;\n",
              "    }\n",
              "\n",
              "    .dataframe thead th {\n",
              "        text-align: right;\n",
              "    }\n",
              "</style>\n",
              "<table border=\"1\" class=\"dataframe\">\n",
              "  <thead>\n",
              "    <tr style=\"text-align: right;\">\n",
              "      <th></th>\n",
              "      <th>Country name</th>\n",
              "      <th>Regional indicator</th>\n",
              "      <th>Ladder score</th>\n",
              "      <th>Logged GDP per capita</th>\n",
              "      <th>Social support</th>\n",
              "      <th>Healthy life expectancy</th>\n",
              "      <th>Freedom to make life choices</th>\n",
              "      <th>Generosity</th>\n",
              "      <th>Perceptions of corruption</th>\n",
              "    </tr>\n",
              "  </thead>\n",
              "  <tbody>\n",
              "    <tr>\n",
              "      <th>0</th>\n",
              "      <td>Finland</td>\n",
              "      <td>Western Europe</td>\n",
              "      <td>7.842</td>\n",
              "      <td>10.775</td>\n",
              "      <td>0.954</td>\n",
              "      <td>72.0</td>\n",
              "      <td>0.949</td>\n",
              "      <td>-0.098</td>\n",
              "      <td>0.186</td>\n",
              "    </tr>\n",
              "    <tr>\n",
              "      <th>1</th>\n",
              "      <td>Denmark</td>\n",
              "      <td>Western Europe</td>\n",
              "      <td>7.620</td>\n",
              "      <td>10.933</td>\n",
              "      <td>0.954</td>\n",
              "      <td>72.7</td>\n",
              "      <td>0.946</td>\n",
              "      <td>0.030</td>\n",
              "      <td>0.179</td>\n",
              "    </tr>\n",
              "    <tr>\n",
              "      <th>2</th>\n",
              "      <td>Switzerland</td>\n",
              "      <td>Western Europe</td>\n",
              "      <td>7.571</td>\n",
              "      <td>11.117</td>\n",
              "      <td>0.942</td>\n",
              "      <td>74.4</td>\n",
              "      <td>0.919</td>\n",
              "      <td>0.025</td>\n",
              "      <td>0.292</td>\n",
              "    </tr>\n",
              "    <tr>\n",
              "      <th>3</th>\n",
              "      <td>Iceland</td>\n",
              "      <td>Western Europe</td>\n",
              "      <td>7.554</td>\n",
              "      <td>10.878</td>\n",
              "      <td>0.983</td>\n",
              "      <td>73.0</td>\n",
              "      <td>0.955</td>\n",
              "      <td>0.160</td>\n",
              "      <td>0.673</td>\n",
              "    </tr>\n",
              "    <tr>\n",
              "      <th>4</th>\n",
              "      <td>Netherlands</td>\n",
              "      <td>Western Europe</td>\n",
              "      <td>7.464</td>\n",
              "      <td>10.932</td>\n",
              "      <td>0.942</td>\n",
              "      <td>72.4</td>\n",
              "      <td>0.913</td>\n",
              "      <td>0.175</td>\n",
              "      <td>0.338</td>\n",
              "    </tr>\n",
              "  </tbody>\n",
              "</table>\n",
              "</div>"
            ],
            "text/plain": [
              "  Country name Regional indicator  Ladder score  Logged GDP per capita  \\\n",
              "0      Finland     Western Europe         7.842                 10.775   \n",
              "1      Denmark     Western Europe         7.620                 10.933   \n",
              "2  Switzerland     Western Europe         7.571                 11.117   \n",
              "3      Iceland     Western Europe         7.554                 10.878   \n",
              "4  Netherlands     Western Europe         7.464                 10.932   \n",
              "\n",
              "   Social support  Healthy life expectancy  Freedom to make life choices  \\\n",
              "0           0.954                     72.0                         0.949   \n",
              "1           0.954                     72.7                         0.946   \n",
              "2           0.942                     74.4                         0.919   \n",
              "3           0.983                     73.0                         0.955   \n",
              "4           0.942                     72.4                         0.913   \n",
              "\n",
              "   Generosity  Perceptions of corruption  \n",
              "0      -0.098                      0.186  \n",
              "1       0.030                      0.179  \n",
              "2       0.025                      0.292  \n",
              "3       0.160                      0.673  \n",
              "4       0.175                      0.338  "
            ]
          },
          "metadata": {
            "tags": []
          },
          "execution_count": 15
        }
      ]
    },
    {
      "cell_type": "markdown",
      "metadata": {
        "id": "entertaining-techno"
      },
      "source": [
        "## Basic Score Explanations of the Variables:\n",
        "##### Ladder score : Happiness score. 0 lowest, 10 maximum\n",
        "##### Social Support: Perceived social support score 0 lowest, 10 maximum\n",
        "##### Freedom to make life choices: Perceived freedom of expression 0 lowest, 10 maximum\n",
        "##### Perceptions of corruption: Perceived corruption and kind of distrust in institutions 0 lowest, 10 maximum distrust"
      ],
      "id": "entertaining-techno"
    },
    {
      "cell_type": "code",
      "metadata": {
        "id": "yellow-laser",
        "outputId": "f63c1949-f1f6-4262-ddab-bf4fd540b6d7"
      },
      "source": [
        "df1_2021.describe()"
      ],
      "id": "yellow-laser",
      "execution_count": null,
      "outputs": [
        {
          "output_type": "execute_result",
          "data": {
            "text/html": [
              "<div>\n",
              "<style scoped>\n",
              "    .dataframe tbody tr th:only-of-type {\n",
              "        vertical-align: middle;\n",
              "    }\n",
              "\n",
              "    .dataframe tbody tr th {\n",
              "        vertical-align: top;\n",
              "    }\n",
              "\n",
              "    .dataframe thead th {\n",
              "        text-align: right;\n",
              "    }\n",
              "</style>\n",
              "<table border=\"1\" class=\"dataframe\">\n",
              "  <thead>\n",
              "    <tr style=\"text-align: right;\">\n",
              "      <th></th>\n",
              "      <th>Ladder score</th>\n",
              "      <th>Logged GDP per capita</th>\n",
              "      <th>Social support</th>\n",
              "      <th>Healthy life expectancy</th>\n",
              "      <th>Freedom to make life choices</th>\n",
              "      <th>Generosity</th>\n",
              "      <th>Perceptions of corruption</th>\n",
              "    </tr>\n",
              "  </thead>\n",
              "  <tbody>\n",
              "    <tr>\n",
              "      <th>count</th>\n",
              "      <td>149.000000</td>\n",
              "      <td>149.000000</td>\n",
              "      <td>149.000000</td>\n",
              "      <td>149.000000</td>\n",
              "      <td>149.000000</td>\n",
              "      <td>149.000000</td>\n",
              "      <td>149.000000</td>\n",
              "    </tr>\n",
              "    <tr>\n",
              "      <th>mean</th>\n",
              "      <td>5.532839</td>\n",
              "      <td>9.432208</td>\n",
              "      <td>0.814745</td>\n",
              "      <td>64.992799</td>\n",
              "      <td>0.791597</td>\n",
              "      <td>-0.015134</td>\n",
              "      <td>0.727450</td>\n",
              "    </tr>\n",
              "    <tr>\n",
              "      <th>std</th>\n",
              "      <td>1.073924</td>\n",
              "      <td>1.158601</td>\n",
              "      <td>0.114889</td>\n",
              "      <td>6.762043</td>\n",
              "      <td>0.113332</td>\n",
              "      <td>0.150657</td>\n",
              "      <td>0.179226</td>\n",
              "    </tr>\n",
              "    <tr>\n",
              "      <th>min</th>\n",
              "      <td>2.523000</td>\n",
              "      <td>6.635000</td>\n",
              "      <td>0.463000</td>\n",
              "      <td>48.478000</td>\n",
              "      <td>0.382000</td>\n",
              "      <td>-0.288000</td>\n",
              "      <td>0.082000</td>\n",
              "    </tr>\n",
              "    <tr>\n",
              "      <th>25%</th>\n",
              "      <td>4.852000</td>\n",
              "      <td>8.541000</td>\n",
              "      <td>0.750000</td>\n",
              "      <td>59.802000</td>\n",
              "      <td>0.718000</td>\n",
              "      <td>-0.126000</td>\n",
              "      <td>0.667000</td>\n",
              "    </tr>\n",
              "    <tr>\n",
              "      <th>50%</th>\n",
              "      <td>5.534000</td>\n",
              "      <td>9.569000</td>\n",
              "      <td>0.832000</td>\n",
              "      <td>66.603000</td>\n",
              "      <td>0.804000</td>\n",
              "      <td>-0.036000</td>\n",
              "      <td>0.781000</td>\n",
              "    </tr>\n",
              "    <tr>\n",
              "      <th>75%</th>\n",
              "      <td>6.255000</td>\n",
              "      <td>10.421000</td>\n",
              "      <td>0.905000</td>\n",
              "      <td>69.600000</td>\n",
              "      <td>0.877000</td>\n",
              "      <td>0.079000</td>\n",
              "      <td>0.845000</td>\n",
              "    </tr>\n",
              "    <tr>\n",
              "      <th>max</th>\n",
              "      <td>7.842000</td>\n",
              "      <td>11.647000</td>\n",
              "      <td>0.983000</td>\n",
              "      <td>76.953000</td>\n",
              "      <td>0.970000</td>\n",
              "      <td>0.542000</td>\n",
              "      <td>0.939000</td>\n",
              "    </tr>\n",
              "  </tbody>\n",
              "</table>\n",
              "</div>"
            ],
            "text/plain": [
              "       Ladder score  Logged GDP per capita  Social support  \\\n",
              "count    149.000000             149.000000      149.000000   \n",
              "mean       5.532839               9.432208        0.814745   \n",
              "std        1.073924               1.158601        0.114889   \n",
              "min        2.523000               6.635000        0.463000   \n",
              "25%        4.852000               8.541000        0.750000   \n",
              "50%        5.534000               9.569000        0.832000   \n",
              "75%        6.255000              10.421000        0.905000   \n",
              "max        7.842000              11.647000        0.983000   \n",
              "\n",
              "       Healthy life expectancy  Freedom to make life choices  Generosity  \\\n",
              "count               149.000000                    149.000000  149.000000   \n",
              "mean                 64.992799                      0.791597   -0.015134   \n",
              "std                   6.762043                      0.113332    0.150657   \n",
              "min                  48.478000                      0.382000   -0.288000   \n",
              "25%                  59.802000                      0.718000   -0.126000   \n",
              "50%                  66.603000                      0.804000   -0.036000   \n",
              "75%                  69.600000                      0.877000    0.079000   \n",
              "max                  76.953000                      0.970000    0.542000   \n",
              "\n",
              "       Perceptions of corruption  \n",
              "count                 149.000000  \n",
              "mean                    0.727450  \n",
              "std                     0.179226  \n",
              "min                     0.082000  \n",
              "25%                     0.667000  \n",
              "50%                     0.781000  \n",
              "75%                     0.845000  \n",
              "max                     0.939000  "
            ]
          },
          "metadata": {
            "tags": []
          },
          "execution_count": 25
        }
      ]
    },
    {
      "cell_type": "markdown",
      "metadata": {
        "id": "completed-satisfaction"
      },
      "source": [
        "### For the sake of the learning the concepts in depht we will first focus on only 'Ladder score' variable"
      ],
      "id": "completed-satisfaction"
    },
    {
      "cell_type": "code",
      "metadata": {
        "id": "distributed-planet",
        "outputId": "97b38805-17bb-4722-d958-205112fc140e"
      },
      "source": [
        "df1_2021['Ladder score'].describe()"
      ],
      "id": "distributed-planet",
      "execution_count": null,
      "outputs": [
        {
          "output_type": "execute_result",
          "data": {
            "text/plain": [
              "count    149.000000\n",
              "mean       5.532839\n",
              "std        1.073924\n",
              "min        2.523000\n",
              "25%        4.852000\n",
              "50%        5.534000\n",
              "75%        6.255000\n",
              "max        7.842000\n",
              "Name: Ladder score, dtype: float64"
            ]
          },
          "metadata": {
            "tags": []
          },
          "execution_count": 12
        }
      ]
    },
    {
      "cell_type": "markdown",
      "metadata": {
        "id": "certain-temperature"
      },
      "source": [
        "### ilk yorumlama"
      ],
      "id": "certain-temperature"
    },
    {
      "cell_type": "markdown",
      "metadata": {
        "id": "imported-impression"
      },
      "source": [
        "ya ortalamaya dayanan yaklaşımla bakacağız ya orta değere dayanan yaklaşımla \n",
        "ya mean based, ya median based\n",
        "\n",
        "mean ve 50% e baktığımızda birbirine çok yakın olduğunu görüyoruz. sadece mean median'dan çok az daha küçük.\n",
        "\n",
        "Bu değerlere bakarak simetriğe yakın bir dağılım olabilir diyebilirim ama hemen sonuca gitmem. min ve max değerlerine bakarım. bunların %25 ile %75 arasındaki farka bakarım.\n",
        "%25 ile min arasındaki farka ve %75 ile max arasındaki farka bakarım.\n",
        "\n",
        "max ile %75 arasındaki fark çok büyük değil ama min ile 25% arasındaki fark benim dikkatimi çekiyor! buna bakmamız lazım. Her ne kadar şeklimin simetrik olduğunu düşünsem de acaba sol tarafta outlier olabilir mi?\n",
        "\n",
        "min-25 arasında yaklaşık 2.3 fark olduğunu, bu 0 ile 10 aralığında olan değerler için büyük bir rakam!\n",
        "max-75 arasında yaklaşık 1.6 fark olduğunu gördüm.\n",
        "\n",
        "fakat mean ve median değerlerine baktığımda aralarında çok az fark olduğunu gördüm. (5.5328839 - 5.53400) demek ki şeklim yaklaşık simetriğe yakın olacak diyebilirim. sola-sağa skewed olması için o tarafta ağırlık olacak şekilde değerlerin kayması lazım. öyle bir iki değer mean'den kaymışsa şeklimi çok etkilemeyecektir.\n",
        "\n",
        "min ve max değerler 1,5 IQR arasında kalıyorsa python min ve max değerlerini Q3+1,5IQR ve Q1-1.5 IQR üzerinde çizer. arasında kalmıyorsa dışında çizer. (outlier var demektir)"
      ],
      "id": "imported-impression"
    },
    {
      "cell_type": "raw",
      "metadata": {
        "id": "balanced-motorcycle"
      },
      "source": [
        ""
      ],
      "id": "balanced-motorcycle"
    },
    {
      "cell_type": "markdown",
      "metadata": {
        "id": "interesting-course"
      },
      "source": [
        "### mean & median"
      ],
      "id": "interesting-course"
    },
    {
      "cell_type": "markdown",
      "metadata": {
        "id": "periodic-evans"
      },
      "source": [
        "eğer mean mediandan büyükse -->  sağa çekiyor\n",
        "eğer mean median birbirine eşit (veya eşite yakınsa) --> simetrik\n",
        "mean median'dan küçükse --> sola çekiyor\n",
        "\n",
        "(Generally, if the shape is:\n",
        "\n",
        "Perfectly symmetric, the mean equals the median.\n",
        "Skewed to the right, the mean is larger than the median.\n",
        "Skewed to the left, the mean is smaller than the median.)\n",
        "\n",
        "mean, verilerin aritmetik ortalaması olduğu için işin içinde değerlerin ağırlığı söz konusudur ve bu yüzden şeklimizi şekillendiren değerdir!! median ise tek bir (orta) veridir. dolayısıyla mean'in median'a göre durumuna bakıyoruz, mean küçük yani solda kalıyorsa sola skewed olduğunu, sağda kalıyorsa sağa skewed olduğunu söyleyebiliyoruz."
      ],
      "id": "periodic-evans"
    },
    {
      "cell_type": "markdown",
      "metadata": {
        "id": "nonprofit-biology"
      },
      "source": [
        "### skewness"
      ],
      "id": "nonprofit-biology"
    },
    {
      "cell_type": "markdown",
      "metadata": {
        "id": "tropical-accreditation"
      },
      "source": [
        "eğer skewness -1'den küçük veya +1den büyükse dağılım highly skewed\n",
        "\n",
        "eğer skewness -1 ile -1/2 veya +1/2 ile +1 arasında ise dağılım moderately skewed (orta dereceli, rahatsız etmeyecek kadar)\n",
        "\n",
        "eğer skewness -1/2 ile +1/2 arasında ise dağılım hemen hemen simetriktir.\n",
        "\n",
        "Rule of thumb:\n",
        "If skewness is less than —1 or greater than +1, the distribution is highly skewed.\n",
        "If skewness is between —1 and —1/2 or between +1/2 and +1, the distribution is moderately skewed.\n",
        "If skewness is between —1/2 and +1/2, the distribution is approximately symmetric."
      ],
      "id": "tropical-accreditation"
    },
    {
      "cell_type": "code",
      "metadata": {
        "id": "surrounded-glance",
        "outputId": "a202bee7-ac39-41b0-8423-b1c877f405c3"
      },
      "source": [
        "stats.skew(df1_2021['Ladder score'])"
      ],
      "id": "surrounded-glance",
      "execution_count": null,
      "outputs": [
        {
          "output_type": "execute_result",
          "data": {
            "text/plain": [
              "-0.10321590748801858"
            ]
          },
          "metadata": {
            "tags": []
          },
          "execution_count": 9
        }
      ]
    },
    {
      "cell_type": "markdown",
      "metadata": {
        "id": "pressing-lightweight"
      },
      "source": [
        "outlier'ı tespit için en kolay kullanabileceğimiz yöntem boxplot'tur"
      ],
      "id": "pressing-lightweight"
    },
    {
      "cell_type": "markdown",
      "metadata": {
        "id": "demographic-conclusion"
      },
      "source": [
        "Skewness bir dağılımın simetrik olmama derecesini ölçerken; kurtosis dağılımın ortasında çok fazla veya çok az örneğin bulunma derecesini gösteren bir indekstir yani şeklin basıklığından bahsediyoruzdur. Eğer skorların çoğu ortalamanın solunda ise ve bu yüzden ortalamadan küçüklerse bu dağılımım pozitif olarak çarpık adlandırılır."
      ],
      "id": "demographic-conclusion"
    },
    {
      "cell_type": "markdown",
      "metadata": {
        "id": "cardiovascular-moral"
      },
      "source": [
        "Shape - Kurtosis\n",
        "Image of Kurtosis\n",
        "\n",
        "(Skewness bir dağılımın simetrik olmama derecesini ölçerken; kurtosis dağılımın ortasında çok fazla veya çok az örneğin bulunma derecesini gösteren bir indekstir. Eğer skorların çoğu ortalamanın solunda ise ve bu yüzden ortalamadan küçüklerse bu dağılımm pozitif olarak çarpık adlandırılır.)\n",
        "\n",
        "image.png"
      ],
      "id": "cardiovascular-moral"
    },
    {
      "cell_type": "raw",
      "metadata": {
        "id": "coordinated-favor"
      },
      "source": [
        "kurtosis > 0 --> dik \n",
        "kurtosis = 0 --> normal \n",
        "kurtosis < 0 --> basık\n",
        "\n",
        "- If kurtosis is bigger than 0, compared to a normal distribution, its tails are longer and fatter, and often its central peak is higher and sharper.\n",
        " (Kurtosis, normal dağılıma kıyasla 0'dan büyükse, kuyrukları daha uzun ve daha kalındır ve genellikle merkezi tepe noktası daha yüksek ve daha keskindir.)\n",
        " \n",
        "- In normal distribution, kurtosis is = 0\n",
        "(Normal dağılımda kurtosis = 0)\n",
        "\n",
        "- If kurtosis is less than 0, Compared to a normal distribution, its tails are shorter and thinner, and often its central peak is lower and broader.\n",
        "(Kurtosis 0'dan küçükse, Normal dağılımla karşılaştırıldığında, kuyrukları daha kısa ve daha incedir ve genellikle merkezi tepe noktası daha düşük ve daha geniştir --> BASIKTIR)"
      ],
      "id": "coordinated-favor"
    },
    {
      "cell_type": "markdown",
      "metadata": {
        "id": "fourth-hobby"
      },
      "source": [
        "### datamı analiz etmeden önce outlier'ım var mı bunu bulmak isterim. outlierlarım çoksa analizimi median based yaparım, azsa veya yoksa analizimi mean based yaparım "
      ],
      "id": "fourth-hobby"
    },
    {
      "cell_type": "markdown",
      "metadata": {
        "id": "extreme-constraint"
      },
      "source": [
        "# Ladder Score"
      ],
      "id": "extreme-constraint"
    },
    {
      "cell_type": "markdown",
      "metadata": {
        "id": "broadband-mayor"
      },
      "source": [
        "### histogram"
      ],
      "id": "broadband-mayor"
    },
    {
      "cell_type": "code",
      "metadata": {
        "id": "major-pierce",
        "outputId": "25689130-c283-44c7-fb83-b4e8dd70b261"
      },
      "source": [
        "plt.figure(figsize=(14,12), dpi=200)\n",
        "sns.displot(x=\"Ladder score\", data=df1_2021, bins=20);"
      ],
      "id": "major-pierce",
      "execution_count": null,
      "outputs": [
        {
          "output_type": "display_data",
          "data": {
            "text/plain": [
              "<Figure size 2800x2400 with 0 Axes>"
            ]
          },
          "metadata": {
            "tags": []
          }
        },
        {
          "output_type": "display_data",
          "data": {
            "image/png": "[encoded data removed]",
            "text/plain": [
              "<Figure size 360x360 with 1 Axes>"
            ]
          },
          "metadata": {
            "tags": [],
            "needs_background": "light"
          }
        }
      ]
    },
    {
      "cell_type": "raw",
      "metadata": {
        "id": "afraid-argentina"
      },
      "source": [
        "dağılım çok karman çorman değil, ortalarda toplanmış, simetriğe yakın. sağdaki 8'in solundaki değer kenardaki değer için düşünüldüğünde biraz büyük ama outlier gibi de değil. solda 3'ün solundaki değer oulier gibi gözüküyor. bakalım\n",
        "\n",
        "Bununla birlikte çok fazla outlier olsaydı mean median'a bu kadar yakın olmazdı diye düşünürüm."
      ],
      "id": "afraid-argentina"
    },
    {
      "cell_type": "raw",
      "metadata": {
        "id": "quality-representative"
      },
      "source": [
        "since result for ladder score is -0.39 we can assume that central peak is lower than normal and broader, but not a bigger exten"
      ],
      "id": "quality-representative"
    },
    {
      "cell_type": "code",
      "metadata": {
        "id": "dated-adrian",
        "outputId": "cb67f29e-88b4-4c26-9872-5789a6761373"
      },
      "source": [
        "plt.figure(figsize=(14,12), dpi=200)\n",
        "sns.displot(x=\"Ladder score\", data=df1_2021, bins=30);\n",
        "\n",
        "# bin değerini 30 yaptım. şimdi soldaki ayrık değeri daha net görebiliyorum."
      ],
      "id": "dated-adrian",
      "execution_count": null,
      "outputs": [
        {
          "output_type": "display_data",
          "data": {
            "text/plain": [
              "<Figure size 2800x2400 with 0 Axes>"
            ]
          },
          "metadata": {
            "tags": []
          }
        },
        {
          "output_type": "display_data",
          "data": {
            "image/png": "[encoded data removed]",
            "text/plain": [
              "<Figure size 360x360 with 1 Axes>"
            ]
          },
          "metadata": {
            "tags": [],
            "needs_background": "light"
          }
        }
      ]
    },
    {
      "cell_type": "code",
      "metadata": {
        "id": "challenging-cooking",
        "outputId": "f01a55a3-6207-4653-e5e0-0ae87b8e3b4c"
      },
      "source": [
        "plt.figure(figsize=(14,12), dpi =200)\n",
        "sns.displot(x='Ladder score', data= df1_2021, bins=20, kde= True)"
      ],
      "id": "challenging-cooking",
      "execution_count": null,
      "outputs": [
        {
          "output_type": "execute_result",
          "data": {
            "text/plain": [
              "<seaborn.axisgrid.FacetGrid at 0x2b86a065408>"
            ]
          },
          "metadata": {
            "tags": []
          },
          "execution_count": 27
        },
        {
          "output_type": "display_data",
          "data": {
            "text/plain": [
              "<Figure size 2800x2400 with 0 Axes>"
            ]
          },
          "metadata": {
            "tags": []
          }
        },
        {
          "output_type": "display_data",
          "data": {
            "image/png": "[encoded data removed]",
            "text/plain": [
              "<Figure size 360x360 with 1 Axes>"
            ]
          },
          "metadata": {
            "tags": [],
            "needs_background": "light"
          }
        }
      ]
    },
    {
      "cell_type": "code",
      "metadata": {
        "id": "moderate-ghost",
        "outputId": "c7567b81-444a-4c31-bc2e-7ac50d9ac8d1"
      },
      "source": [
        "plt.figure(figsize=(6,4),dpi=150)\n",
        "sns.kdeplot(x=\"Ladder score\", data=df_2021);"
      ],
      "id": "moderate-ghost",
      "execution_count": null,
      "outputs": [
        {
          "output_type": "display_data",
          "data": {
            "image/png": "[encoded data removed]",
            "text/plain": [
              "<Figure size 900x600 with 1 Axes>"
            ]
          },
          "metadata": {
            "tags": [],
            "needs_background": "light"
          }
        }
      ]
    },
    {
      "cell_type": "raw",
      "metadata": {
        "id": "demographic-disabled"
      },
      "source": [
        "histogram, numerical variable'larla ilgili bir görsel sağlar ancak,\n",
        "\n",
        "istatistiksel olarak boxplot gibi outlier'ları tanımlayamaz. \n",
        "\n",
        "görsel temsilin yorumu yalnızca veri analistinin görüşüne bağlıdır. (visual representation's intrepretation depends solely on data  analyst's view.)"
      ],
      "id": "demographic-disabled"
    },
    {
      "cell_type": "raw",
      "metadata": {
        "id": "marine-donor"
      },
      "source": [
        "yukardaki şekilde dikkatimi çeken birşey var! daha net bir veri için boxplot'a bakalım"
      ],
      "id": "marine-donor"
    },
    {
      "cell_type": "markdown",
      "metadata": {
        "id": "random-intellectual"
      },
      "source": [
        "### Boxplot"
      ],
      "id": "random-intellectual"
    },
    {
      "cell_type": "code",
      "metadata": {
        "id": "flush-pursuit",
        "outputId": "cce96db3-6b34-4b0b-da80-c65d93f33a91"
      },
      "source": [
        "plt.figure(figsize=(6,4), dpi=200)\n",
        "sns.boxplot(x='Ladder score', data=df1_2021, orient='h')\n",
        "\n",
        "# boxplot'una baktığımda solda bir OUTLIER olduğunu gördüm.\n",
        "# eğer orient = h (horizantal) ise x değerinin kesinlikle sayısal bir değer olması gerekiyor.\n",
        "# eğer orient = v (vertical) x ve y değerinin sayısal olması gerekir"
      ],
      "id": "flush-pursuit",
      "execution_count": null,
      "outputs": [
        {
          "output_type": "execute_result",
          "data": {
            "text/plain": [
              "<AxesSubplot:xlabel='Ladder score'>"
            ]
          },
          "metadata": {
            "tags": []
          },
          "execution_count": 17
        },
        {
          "output_type": "display_data",
          "data": {
            "image/png": "[encoded data removed]",
            "text/plain": [
              "<Figure size 1200x800 with 1 Axes>"
            ]
          },
          "metadata": {
            "tags": [],
            "needs_background": "light"
          }
        }
      ]
    },
    {
      "cell_type": "code",
      "metadata": {
        "scrolled": true,
        "id": "isolated-profile",
        "outputId": "525c9d20-5572-43ef-ee6b-73e04c14f512"
      },
      "source": [
        "Q1, Q3 = np.percentile(df1_2021['Ladder score'], [25, 75])\n",
        "Q1, Q3\n",
        "\n",
        "# Q1 ve Q3 değerlerini percentile fonksiyonu ile hesapladık"
      ],
      "id": "isolated-profile",
      "execution_count": null,
      "outputs": [
        {
          "output_type": "execute_result",
          "data": {
            "text/plain": [
              "(4.852, 6.255)"
            ]
          },
          "metadata": {
            "tags": []
          },
          "execution_count": 18
        }
      ]
    },
    {
      "cell_type": "code",
      "metadata": {
        "id": "permanent-macintosh",
        "outputId": "aa5dfc00-da9e-4d22-8084-5f536f053cb3"
      },
      "source": [
        "IQR = Q3 - Q1\n",
        "IQR"
      ],
      "id": "permanent-macintosh",
      "execution_count": null,
      "outputs": [
        {
          "output_type": "execute_result",
          "data": {
            "text/plain": [
              "1.4029999999999996"
            ]
          },
          "metadata": {
            "tags": []
          },
          "execution_count": 19
        }
      ]
    },
    {
      "cell_type": "code",
      "metadata": {
        "id": "moved-northwest",
        "outputId": "c7e55c08-72a4-4af8-d4d5-457fcfae066f"
      },
      "source": [
        "stats.iqr(df1_2021['Ladder score'])\n",
        "\n",
        "# IQR değerimi scipy kütüphanesindeki bu fonksiyonu kullanarak da hesaplayabilirim."
      ],
      "id": "moved-northwest",
      "execution_count": null,
      "outputs": [
        {
          "output_type": "execute_result",
          "data": {
            "text/plain": [
              "1.4029999999999996"
            ]
          },
          "metadata": {
            "tags": []
          },
          "execution_count": 20
        }
      ]
    },
    {
      "cell_type": "code",
      "metadata": {
        "id": "attended-public",
        "outputId": "f6033240-7e45-4d91-e8df-1c1a9c15928c"
      },
      "source": [
        "minimum = Q1 - 1.5 * IQR\n",
        "minimum\n",
        "\n",
        "# bu boxplotumun minimumu. \n",
        "# bu data için minimum değerim de boxplot'umum minimumu ile aynı"
      ],
      "id": "attended-public",
      "execution_count": null,
      "outputs": [
        {
          "output_type": "execute_result",
          "data": {
            "text/plain": [
              "2.747500000000001"
            ]
          },
          "metadata": {
            "tags": []
          },
          "execution_count": 21
        }
      ]
    },
    {
      "cell_type": "code",
      "metadata": {
        "id": "afraid-gender",
        "outputId": "b22df8af-1d7e-493a-96bc-81fbc986c7eb"
      },
      "source": [
        "maximum = Q3 + 1.5 * IQR\n",
        "maximum"
      ],
      "id": "afraid-gender",
      "execution_count": null,
      "outputs": [
        {
          "output_type": "execute_result",
          "data": {
            "text/plain": [
              "8.359499999999999"
            ]
          },
          "metadata": {
            "tags": []
          },
          "execution_count": 22
        }
      ]
    },
    {
      "cell_type": "code",
      "metadata": {
        "id": "vocal-forward",
        "outputId": "87fd9824-151a-482f-892b-38ce1b78d365"
      },
      "source": [
        "potential_outliers = df1_2021[(df1_2021[\"Ladder score\"] < minimum) | (df1_2021[\"Ladder score\"] > maximum)]\n",
        "potential_outliers\n",
        "\n",
        "# potansiyel tüm outlier'ları veren condition'ımı yazdım."
      ],
      "id": "vocal-forward",
      "execution_count": null,
      "outputs": [
        {
          "output_type": "execute_result",
          "data": {
            "text/html": [
              "<div>\n",
              "<style scoped>\n",
              "    .dataframe tbody tr th:only-of-type {\n",
              "        vertical-align: middle;\n",
              "    }\n",
              "\n",
              "    .dataframe tbody tr th {\n",
              "        vertical-align: top;\n",
              "    }\n",
              "\n",
              "    .dataframe thead th {\n",
              "        text-align: right;\n",
              "    }\n",
              "</style>\n",
              "<table border=\"1\" class=\"dataframe\">\n",
              "  <thead>\n",
              "    <tr style=\"text-align: right;\">\n",
              "      <th></th>\n",
              "      <th>Country name</th>\n",
              "      <th>Regional indicator</th>\n",
              "      <th>Ladder score</th>\n",
              "      <th>Logged GDP per capita</th>\n",
              "      <th>Social support</th>\n",
              "      <th>Healthy life expectancy</th>\n",
              "      <th>Freedom to make life choices</th>\n",
              "      <th>Generosity</th>\n",
              "      <th>Perceptions of corruption</th>\n",
              "    </tr>\n",
              "  </thead>\n",
              "  <tbody>\n",
              "    <tr>\n",
              "      <th>148</th>\n",
              "      <td>Afghanistan</td>\n",
              "      <td>South Asia</td>\n",
              "      <td>2.523</td>\n",
              "      <td>7.695</td>\n",
              "      <td>0.463</td>\n",
              "      <td>52.493</td>\n",
              "      <td>0.382</td>\n",
              "      <td>-0.102</td>\n",
              "      <td>0.924</td>\n",
              "    </tr>\n",
              "  </tbody>\n",
              "</table>\n",
              "</div>"
            ],
            "text/plain": [
              "    Country name Regional indicator  Ladder score  Logged GDP per capita  \\\n",
              "148  Afghanistan         South Asia         2.523                  7.695   \n",
              "\n",
              "     Social support  Healthy life expectancy  Freedom to make life choices  \\\n",
              "148           0.463                   52.493                         0.382   \n",
              "\n",
              "     Generosity  Perceptions of corruption  \n",
              "148      -0.102                      0.924  "
            ]
          },
          "metadata": {
            "tags": []
          },
          "execution_count": 23
        }
      ]
    },
    {
      "cell_type": "code",
      "metadata": {
        "id": "fantastic-pricing",
        "outputId": "240d14e3-4f00-404f-c739-836be8c7e4ce"
      },
      "source": [
        "outlier_ayıklanmış = df1_2021[~(df1_2021[\"Ladder score\"] < minimum) | (df1_2021[\"Ladder score\"] > maximum)]\n",
        "outlier_ayıklanmış \n",
        "\n",
        "# conditionın başına tilde (~) koyarsam tam tersini alır yani burada limitler içinde kalan verileri getirir "
      ],
      "id": "fantastic-pricing",
      "execution_count": null,
      "outputs": [
        {
          "output_type": "execute_result",
          "data": {
            "text/html": [
              "<div>\n",
              "<style scoped>\n",
              "    .dataframe tbody tr th:only-of-type {\n",
              "        vertical-align: middle;\n",
              "    }\n",
              "\n",
              "    .dataframe tbody tr th {\n",
              "        vertical-align: top;\n",
              "    }\n",
              "\n",
              "    .dataframe thead th {\n",
              "        text-align: right;\n",
              "    }\n",
              "</style>\n",
              "<table border=\"1\" class=\"dataframe\">\n",
              "  <thead>\n",
              "    <tr style=\"text-align: right;\">\n",
              "      <th></th>\n",
              "      <th>Country name</th>\n",
              "      <th>Regional indicator</th>\n",
              "      <th>Ladder score</th>\n",
              "      <th>Logged GDP per capita</th>\n",
              "      <th>Social support</th>\n",
              "      <th>Healthy life expectancy</th>\n",
              "      <th>Freedom to make life choices</th>\n",
              "      <th>Generosity</th>\n",
              "      <th>Perceptions of corruption</th>\n",
              "    </tr>\n",
              "  </thead>\n",
              "  <tbody>\n",
              "    <tr>\n",
              "      <th>0</th>\n",
              "      <td>Finland</td>\n",
              "      <td>Western Europe</td>\n",
              "      <td>7.842</td>\n",
              "      <td>10.775</td>\n",
              "      <td>0.954</td>\n",
              "      <td>72.000</td>\n",
              "      <td>0.949</td>\n",
              "      <td>-0.098</td>\n",
              "      <td>0.186</td>\n",
              "    </tr>\n",
              "    <tr>\n",
              "      <th>1</th>\n",
              "      <td>Denmark</td>\n",
              "      <td>Western Europe</td>\n",
              "      <td>7.620</td>\n",
              "      <td>10.933</td>\n",
              "      <td>0.954</td>\n",
              "      <td>72.700</td>\n",
              "      <td>0.946</td>\n",
              "      <td>0.030</td>\n",
              "      <td>0.179</td>\n",
              "    </tr>\n",
              "    <tr>\n",
              "      <th>2</th>\n",
              "      <td>Switzerland</td>\n",
              "      <td>Western Europe</td>\n",
              "      <td>7.571</td>\n",
              "      <td>11.117</td>\n",
              "      <td>0.942</td>\n",
              "      <td>74.400</td>\n",
              "      <td>0.919</td>\n",
              "      <td>0.025</td>\n",
              "      <td>0.292</td>\n",
              "    </tr>\n",
              "    <tr>\n",
              "      <th>3</th>\n",
              "      <td>Iceland</td>\n",
              "      <td>Western Europe</td>\n",
              "      <td>7.554</td>\n",
              "      <td>10.878</td>\n",
              "      <td>0.983</td>\n",
              "      <td>73.000</td>\n",
              "      <td>0.955</td>\n",
              "      <td>0.160</td>\n",
              "      <td>0.673</td>\n",
              "    </tr>\n",
              "    <tr>\n",
              "      <th>4</th>\n",
              "      <td>Netherlands</td>\n",
              "      <td>Western Europe</td>\n",
              "      <td>7.464</td>\n",
              "      <td>10.932</td>\n",
              "      <td>0.942</td>\n",
              "      <td>72.400</td>\n",
              "      <td>0.913</td>\n",
              "      <td>0.175</td>\n",
              "      <td>0.338</td>\n",
              "    </tr>\n",
              "    <tr>\n",
              "      <th>...</th>\n",
              "      <td>...</td>\n",
              "      <td>...</td>\n",
              "      <td>...</td>\n",
              "      <td>...</td>\n",
              "      <td>...</td>\n",
              "      <td>...</td>\n",
              "      <td>...</td>\n",
              "      <td>...</td>\n",
              "      <td>...</td>\n",
              "    </tr>\n",
              "    <tr>\n",
              "      <th>143</th>\n",
              "      <td>Malawi</td>\n",
              "      <td>Sub-Saharan Africa</td>\n",
              "      <td>3.600</td>\n",
              "      <td>6.958</td>\n",
              "      <td>0.537</td>\n",
              "      <td>57.948</td>\n",
              "      <td>0.780</td>\n",
              "      <td>0.038</td>\n",
              "      <td>0.729</td>\n",
              "    </tr>\n",
              "    <tr>\n",
              "      <th>144</th>\n",
              "      <td>Lesotho</td>\n",
              "      <td>Sub-Saharan Africa</td>\n",
              "      <td>3.512</td>\n",
              "      <td>7.926</td>\n",
              "      <td>0.787</td>\n",
              "      <td>48.700</td>\n",
              "      <td>0.715</td>\n",
              "      <td>-0.131</td>\n",
              "      <td>0.915</td>\n",
              "    </tr>\n",
              "    <tr>\n",
              "      <th>145</th>\n",
              "      <td>Botswana</td>\n",
              "      <td>Sub-Saharan Africa</td>\n",
              "      <td>3.467</td>\n",
              "      <td>9.782</td>\n",
              "      <td>0.784</td>\n",
              "      <td>59.269</td>\n",
              "      <td>0.824</td>\n",
              "      <td>-0.246</td>\n",
              "      <td>0.801</td>\n",
              "    </tr>\n",
              "    <tr>\n",
              "      <th>146</th>\n",
              "      <td>Rwanda</td>\n",
              "      <td>Sub-Saharan Africa</td>\n",
              "      <td>3.415</td>\n",
              "      <td>7.676</td>\n",
              "      <td>0.552</td>\n",
              "      <td>61.400</td>\n",
              "      <td>0.897</td>\n",
              "      <td>0.061</td>\n",
              "      <td>0.167</td>\n",
              "    </tr>\n",
              "    <tr>\n",
              "      <th>147</th>\n",
              "      <td>Zimbabwe</td>\n",
              "      <td>Sub-Saharan Africa</td>\n",
              "      <td>3.145</td>\n",
              "      <td>7.943</td>\n",
              "      <td>0.750</td>\n",
              "      <td>56.201</td>\n",
              "      <td>0.677</td>\n",
              "      <td>-0.047</td>\n",
              "      <td>0.821</td>\n",
              "    </tr>\n",
              "  </tbody>\n",
              "</table>\n",
              "<p>148 rows × 9 columns</p>\n",
              "</div>"
            ],
            "text/plain": [
              "    Country name  Regional indicator  Ladder score  Logged GDP per capita  \\\n",
              "0        Finland      Western Europe         7.842                 10.775   \n",
              "1        Denmark      Western Europe         7.620                 10.933   \n",
              "2    Switzerland      Western Europe         7.571                 11.117   \n",
              "3        Iceland      Western Europe         7.554                 10.878   \n",
              "4    Netherlands      Western Europe         7.464                 10.932   \n",
              "..           ...                 ...           ...                    ...   \n",
              "143       Malawi  Sub-Saharan Africa         3.600                  6.958   \n",
              "144      Lesotho  Sub-Saharan Africa         3.512                  7.926   \n",
              "145     Botswana  Sub-Saharan Africa         3.467                  9.782   \n",
              "146       Rwanda  Sub-Saharan Africa         3.415                  7.676   \n",
              "147     Zimbabwe  Sub-Saharan Africa         3.145                  7.943   \n",
              "\n",
              "     Social support  Healthy life expectancy  Freedom to make life choices  \\\n",
              "0             0.954                   72.000                         0.949   \n",
              "1             0.954                   72.700                         0.946   \n",
              "2             0.942                   74.400                         0.919   \n",
              "3             0.983                   73.000                         0.955   \n",
              "4             0.942                   72.400                         0.913   \n",
              "..              ...                      ...                           ...   \n",
              "143           0.537                   57.948                         0.780   \n",
              "144           0.787                   48.700                         0.715   \n",
              "145           0.784                   59.269                         0.824   \n",
              "146           0.552                   61.400                         0.897   \n",
              "147           0.750                   56.201                         0.677   \n",
              "\n",
              "     Generosity  Perceptions of corruption  \n",
              "0        -0.098                      0.186  \n",
              "1         0.030                      0.179  \n",
              "2         0.025                      0.292  \n",
              "3         0.160                      0.673  \n",
              "4         0.175                      0.338  \n",
              "..          ...                        ...  \n",
              "143       0.038                      0.729  \n",
              "144      -0.131                      0.915  \n",
              "145      -0.246                      0.801  \n",
              "146       0.061                      0.167  \n",
              "147      -0.047                      0.821  \n",
              "\n",
              "[148 rows x 9 columns]"
            ]
          },
          "metadata": {
            "tags": []
          },
          "execution_count": 29
        }
      ]
    },
    {
      "cell_type": "code",
      "metadata": {
        "id": "rolled-neutral",
        "outputId": "6ad264e0-7213-4f35-8095-8825f339977e"
      },
      "source": [
        "df1_2021[[\"Social support\"]].describe().T"
      ],
      "id": "rolled-neutral",
      "execution_count": null,
      "outputs": [
        {
          "output_type": "execute_result",
          "data": {
            "text/html": [
              "<div>\n",
              "<style scoped>\n",
              "    .dataframe tbody tr th:only-of-type {\n",
              "        vertical-align: middle;\n",
              "    }\n",
              "\n",
              "    .dataframe tbody tr th {\n",
              "        vertical-align: top;\n",
              "    }\n",
              "\n",
              "    .dataframe thead th {\n",
              "        text-align: right;\n",
              "    }\n",
              "</style>\n",
              "<table border=\"1\" class=\"dataframe\">\n",
              "  <thead>\n",
              "    <tr style=\"text-align: right;\">\n",
              "      <th></th>\n",
              "      <th>count</th>\n",
              "      <th>mean</th>\n",
              "      <th>std</th>\n",
              "      <th>min</th>\n",
              "      <th>25%</th>\n",
              "      <th>50%</th>\n",
              "      <th>75%</th>\n",
              "      <th>max</th>\n",
              "    </tr>\n",
              "  </thead>\n",
              "  <tbody>\n",
              "    <tr>\n",
              "      <th>Social support</th>\n",
              "      <td>149.0</td>\n",
              "      <td>0.814745</td>\n",
              "      <td>0.114889</td>\n",
              "      <td>0.463</td>\n",
              "      <td>0.75</td>\n",
              "      <td>0.832</td>\n",
              "      <td>0.905</td>\n",
              "      <td>0.983</td>\n",
              "    </tr>\n",
              "  </tbody>\n",
              "</table>\n",
              "</div>"
            ],
            "text/plain": [
              "                count      mean       std    min   25%    50%    75%    max\n",
              "Social support  149.0  0.814745  0.114889  0.463  0.75  0.832  0.905  0.983"
            ]
          },
          "metadata": {
            "tags": []
          },
          "execution_count": 27
        }
      ]
    },
    {
      "cell_type": "code",
      "metadata": {
        "id": "attended-commodity",
        "outputId": "c36f12ac-ac95-422e-a171-5ef39c96f909"
      },
      "source": [
        "outlier_ayıklanmış[[\"Social support\"]].describe().T"
      ],
      "id": "attended-commodity",
      "execution_count": null,
      "outputs": [
        {
          "output_type": "execute_result",
          "data": {
            "text/html": [
              "<div>\n",
              "<style scoped>\n",
              "    .dataframe tbody tr th:only-of-type {\n",
              "        vertical-align: middle;\n",
              "    }\n",
              "\n",
              "    .dataframe tbody tr th {\n",
              "        vertical-align: top;\n",
              "    }\n",
              "\n",
              "    .dataframe thead th {\n",
              "        text-align: right;\n",
              "    }\n",
              "</style>\n",
              "<table border=\"1\" class=\"dataframe\">\n",
              "  <thead>\n",
              "    <tr style=\"text-align: right;\">\n",
              "      <th></th>\n",
              "      <th>count</th>\n",
              "      <th>mean</th>\n",
              "      <th>std</th>\n",
              "      <th>min</th>\n",
              "      <th>25%</th>\n",
              "      <th>50%</th>\n",
              "      <th>75%</th>\n",
              "      <th>max</th>\n",
              "    </tr>\n",
              "  </thead>\n",
              "  <tbody>\n",
              "    <tr>\n",
              "      <th>Social support</th>\n",
              "      <td>148.0</td>\n",
              "      <td>0.817122</td>\n",
              "      <td>0.111543</td>\n",
              "      <td>0.489</td>\n",
              "      <td>0.75</td>\n",
              "      <td>0.832</td>\n",
              "      <td>0.90525</td>\n",
              "      <td>0.983</td>\n",
              "    </tr>\n",
              "  </tbody>\n",
              "</table>\n",
              "</div>"
            ],
            "text/plain": [
              "                count      mean       std    min   25%    50%      75%    max\n",
              "Social support  148.0  0.817122  0.111543  0.489  0.75  0.832  0.90525  0.983"
            ]
          },
          "metadata": {
            "tags": []
          },
          "execution_count": 30
        }
      ]
    },
    {
      "cell_type": "markdown",
      "metadata": {
        "id": "advance-variable"
      },
      "source": [
        "mean ile median arasındaki farklara bakarsak; \n",
        "outlierları ayıklanmış datada mean ile median arasındaki farkın  orjinal dataya göre daha az olduğunu görüyoruz. \n",
        "\n",
        "orjinal datada -->    (0.832 - 0.814745 = 0.017255)\n",
        "ayıklanmış datada --> (0.832 - 0.817122 = 0.014878)\n",
        "\n",
        "çünkü outlier veriler ağırlığı ölçüsünde kendi bulunduğu tarafa doğru ortalamayı (mean) median değerden uzaklaştırıyor. bu durumda datamın şekli outlierların bulunduğu yere doğru skewed oluyor.\n",
        "\n",
        "standart sapma (std) nin de aynı mantıkla outlier'ların olduğu orjinal datada daha büyük olduğu yani standarttan daha fazla sapmış olması beklenen bir durumdur.\n",
        "outlierları ayıkladığımızda ise standart sapmanın daha küçük olması doğal bir durumdur."
      ],
      "id": "advance-variable"
    },
    {
      "cell_type": "raw",
      "metadata": {
        "id": "competent-fusion"
      },
      "source": [
        "Aziz hocamdan :))\n",
        "\n",
        "Any other value than 1.5 to multiply:\n",
        "We certainly CAN use whatever outlier bound we wish to use, but we will have to justify it eventually. In the not-so-recent past, it was typical to expect distributions to be Gaussian. With that assumption, ±1IQR is too exclusive, resulting in too MANY outliers, ±2IQR is too inclusive, resulting in too FEW outliers. ±1.5IQR is easy to remember, and is a reasonable compromise, under assumptions of Gaussianity.\n",
        "The 3rd quartile (Q3) is positioned at .675 SD (std deviation, sigma) for a normal distribution. The IQR (Q3 - Q1) represents 2 x .675 SD = 1.35 SD. The outlier fence is determined by adding Q3 to 1.5 x IQR, i.e., .675 SD + 1.5 x 1.35 SD = 2.7 SD. This level would declare .7% of the measurements to be outliers."
      ],
      "id": "competent-fusion"
    },
    {
      "cell_type": "code",
      "metadata": {
        "id": "dental-population"
      },
      "source": [
        ""
      ],
      "id": "dental-population",
      "execution_count": null,
      "outputs": []
    }
  ]
}